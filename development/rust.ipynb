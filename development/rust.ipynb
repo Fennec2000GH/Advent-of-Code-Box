{
  "cells": [
    {
      "cell_type": "markdown",
      "metadata": {
        "id": "view-in-github",
        "colab_type": "text"
      },
      "source": [
        "<a href=\"https://colab.research.google.com/github/Fennec2000GH/Advent-of-Code-2021/blob/main/development/rust.ipynb\" target=\"_parent\"><img src=\"https://colab.research.google.com/assets/colab-badge.svg\" alt=\"Open In Colab\"/></a>"
      ]
    },
    {
      "cell_type": "code",
      "execution_count": null,
      "metadata": {
        "id": "p--wYZ2QwcgN"
      },
      "outputs": [],
      "source": [
        "# run this once, then reload, and then skip this\n",
        "# !apt install rustc\n",
        "# !pip install gdown\n",
        "# !gdown --id 1PULtTc-2e9z4bswh_SQqL5oy_4JpfV7c\n",
        "# !chmod +x evcxr_jupyter\n",
        "# !./evcxr_jupyter --install"
      ]
    },
    {
      "cell_type": "code",
      "execution_count": null,
      "metadata": {
        "id": "w1vDka50zZnA"
      },
      "outputs": [],
      "source": [
        "println!(\"Hello, world!\");"
      ]
    },
    {
      "cell_type": "code",
      "execution_count": null,
      "metadata": {
        "id": "U0WiEMwNSWV6"
      },
      "outputs": [],
      "source": [
        "// install a library for calling shell command\n",
        ":dep cmd_lib\n",
        "use cmd_lib::run_cmd as sh;"
      ]
    },
    {
      "cell_type": "code",
      "execution_count": null,
      "metadata": {
        "id": "S8Bn2i_9SrxB"
      },
      "outputs": [],
      "source": [
        "sh!(ls -al)"
      ]
    },
    {
      "cell_type": "code",
      "execution_count": null,
      "metadata": {
        "id": "_d-VHT6HQ1Pv"
      },
      "outputs": [],
      "source": [
        "# Edited from colab to test copy to GitHub"
      ]
    }
  ],
  "metadata": {
    "colab": {
      "collapsed_sections": [],
      "name": "rust.ipynb",
      "provenance": [],
      "include_colab_link": true
    },
    "interpreter": {
      "hash": "13eb0af71620a846e484681143862ad0a4deab6cadfc353264e5c14897c11035"
    },
    "kernelspec": {
      "display_name": "Rust",
      "language": "python",
      "name": "python3"
    },
    "language_info": {
      "codemirror_mode": {
        "name": "ipython",
        "version": 3
      },
      "file_extension": ".py",
      "mimetype": "text/x-python",
      "name": "python",
      "nbconvert_exporter": "python",
      "pygments_lexer": "ipython3",
      "version": "3.9.9"
    }
  },
  "nbformat": 4,
  "nbformat_minor": 0
}